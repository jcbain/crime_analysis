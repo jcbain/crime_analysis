{
 "cells": [
  {
   "cell_type": "code",
   "execution_count": 14,
   "metadata": {
    "collapsed": true
   },
   "outputs": [],
   "source": [
    "%matplotlib inline\n",
    "\n",
    "import pandas as pd\n",
    "import numpy as np\n",
    "import glob\n",
    "import matplotlib.pyplot as plt\n",
    "import seaborn as sns\n",
    "from datetime import datetime"
   ]
  },
  {
   "cell_type": "code",
   "execution_count": 2,
   "metadata": {
    "collapsed": true
   },
   "outputs": [],
   "source": [
    "session = pd.read_csv('Data/sessions.csv')\n",
    "final = pd.read_csv('Data/final_grades.csv')\n",
    "inter = pd.read_csv('Data/inter_grades.csv')"
   ]
  },
  {
   "cell_type": "code",
   "execution_count": 46,
   "metadata": {
    "collapsed": false
   },
   "outputs": [
    {
     "data": {
      "text/plain": [
       "{dtype('O'): ['exercise', 'activity'],\n",
       " dtype('int64'): ['Unnamed: 0',\n",
       "  'idle_time',\n",
       "  'mouse_wheel',\n",
       "  'mouse_wheel_click',\n",
       "  'left_click',\n",
       "  'right_click',\n",
       "  'mouse_movement',\n",
       "  'keystroke'],\n",
       " dtype('float64'): ['time_delta'],\n",
       " dtype('<M8[ns]'): ['start_time', 'end_time'],\n",
       " category: ['session', 'student_id']}"
      ]
     },
     "execution_count": 46,
     "metadata": {},
     "output_type": "execute_result"
    }
   ],
   "source": [
    "# make sessions and student ids categorical\n",
    "for col in ['session', 'student_id']:\n",
    "    session[col] = session[col].astype('category')\n",
    "\n",
    "# convert start and end time column dtypes to datetime    \n",
    "for col in ['start_time', 'end_time']:\n",
    "    session[col] =  pd.to_datetime(session[col], format='%Y-%m-%d %H:%M:%S')\n",
    "\n",
    "# calculate the time difference between end and start time in seconds\n",
    "session['time_delta']=(pd.to_timedelta(session['end_time'])-pd.to_timedelta(session['start_time'])).astype('timedelta64[s]')\n",
    "\n",
    "# print out column dtypes\n",
    "session.columns.to_series().groupby(session.dtypes).groups"
   ]
  },
  {
   "cell_type": "code",
   "execution_count": 50,
   "metadata": {
    "collapsed": false
   },
   "outputs": [],
   "source": [
    "ag = session.groupby(['student_id']).mean()"
   ]
  },
  {
   "cell_type": "code",
   "execution_count": 52,
   "metadata": {
    "collapsed": false
   },
   "outputs": [
    {
     "data": {
      "text/plain": [
       "Index(['Unnamed: 0', 'idle_time', 'mouse_wheel', 'mouse_wheel_click',\n",
       "       'left_click', 'right_click', 'mouse_movement', 'keystroke',\n",
       "       'time_delta'],\n",
       "      dtype='object')"
      ]
     },
     "execution_count": 52,
     "metadata": {},
     "output_type": "execute_result"
    }
   ],
   "source": [
    "ag.columns"
   ]
  },
  {
   "cell_type": "code",
   "execution_count": 55,
   "metadata": {
    "collapsed": false
   },
   "outputs": [
    {
     "data": {
      "text/plain": [
       "<seaborn.axisgrid.JointGrid at 0x108ddf518>"
      ]
     },
     "execution_count": 55,
     "metadata": {},
     "output_type": "execute_result"
    },
    {
     "data": {
      "image/png": "[encoded data removed]",
      "text/plain": [
       "<matplotlib.figure.Figure at 0x108ddf400>"
      ]
     },
     "metadata": {},
     "output_type": "display_data"
    }
   ],
   "source": [
    "#ag.plot(kind=\"scatter\", x=\"time_delta\", y=\"keystroke\")\n",
    "sns.jointplot(x=\"time_delta\", y=\"keystroke\", data=ag, size=5)"
   ]
  },
  {
   "cell_type": "code",
   "execution_count": null,
   "metadata": {
    "collapsed": true
   },
   "outputs": [],
   "source": []
  }
 ],
 "metadata": {
  "kernelspec": {
   "display_name": "Python 3",
   "language": "python",
   "name": "python3"
  },
  "language_info": {
   "codemirror_mode": {
    "name": "ipython",
    "version": 3
   },
   "file_extension": ".py",
   "mimetype": "text/x-python",
   "name": "python",
   "nbconvert_exporter": "python",
   "pygments_lexer": "ipython3",
   "version": "3.5.1"
  }
 },
 "nbformat": 4,
 "nbformat_minor": 0
}
