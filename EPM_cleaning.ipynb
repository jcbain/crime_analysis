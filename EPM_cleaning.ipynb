{
 "cells": [
  {
   "cell_type": "code",
   "execution_count": 69,
   "metadata": {
    "collapsed": false
   },
   "outputs": [],
   "source": [
    "%matplotlib inline\n",
    "\n",
    "import pandas as pd\n",
    "import numpy as np\n",
    "import glob\n",
    "import matplotlib.pyplot as plt\n",
    "import seaborn as sns"
   ]
  },
  {
   "cell_type": "markdown",
   "metadata": {},
   "source": [
    "So, the first thing that we want to do is a little background research into what we are getting ourselves into. It appears to be a dataset of 115 first year engineering undergrads participating in an expiriment. This expiriment is designed to track the activities of the participants during their sessions within an eductional suite.\n",
    "\n",
    "It appears that the majority of the data exists within the `Data/Processes/` directory. This directory contains 6 sub-directories for each of the 6 sessions tracked. Within these `Session` folders. One of the first tasks is going to be to read in all of these data files, but before that, we must create labels for the header row. The headers are found in `features_info.txt`. "
   ]
  },
  {
   "cell_type": "code",
   "execution_count": 70,
   "metadata": {
    "collapsed": true
   },
   "outputs": [],
   "source": [
    "header_list = ['session', 'student_id', 'exercise', 'activity', 'start_time', \n",
    "               'end_time', 'idle_time','mouse_wheel', 'mouse_wheel_click',\n",
    "               'left_click','right_click','mouse_movement','keystroke']"
   ]
  },
  {
   "cell_type": "code",
   "execution_count": 71,
   "metadata": {
    "collapsed": false
   },
   "outputs": [],
   "source": [
    "allFiles = glob.glob('Data/Processes/*/*') \n",
    "frame = pd.DataFrame() \n",
    "list_ = [] \n",
    "\n",
    "for file_ in allFiles: \n",
    "    df = pd.read_csv(file_)\n",
    "    df.columns = header_list\n",
    "    list_.append(df)\n",
    "frame = pd.concat(list_) \n"
   ]
  },
  {
   "cell_type": "code",
   "execution_count": 72,
   "metadata": {
    "collapsed": false
   },
   "outputs": [
    {
     "data": {
      "text/html": [
       "<div>\n",
       "<table border=\"1\" class=\"dataframe\">\n",
       "  <thead>\n",
       "    <tr style=\"text-align: right;\">\n",
       "      <th></th>\n",
       "      <th>session</th>\n",
       "      <th>student_id</th>\n",
       "      <th>exercise</th>\n",
       "      <th>activity</th>\n",
       "      <th>start_time</th>\n",
       "      <th>end_time</th>\n",
       "      <th>idle_time</th>\n",
       "      <th>mouse_wheel</th>\n",
       "      <th>mouse_wheel_click</th>\n",
       "      <th>left_click</th>\n",
       "      <th>right_click</th>\n",
       "      <th>mouse_movement</th>\n",
       "      <th>keystroke</th>\n",
       "    </tr>\n",
       "  </thead>\n",
       "  <tbody>\n",
       "    <tr>\n",
       "      <th>0</th>\n",
       "      <td>1</td>\n",
       "      <td>1</td>\n",
       "      <td>Es</td>\n",
       "      <td>Aulaweb</td>\n",
       "      <td>2.10.2014 11:25:35</td>\n",
       "      <td>2.10.2014 11:25:42</td>\n",
       "      <td>218</td>\n",
       "      <td>0</td>\n",
       "      <td>0</td>\n",
       "      <td>4</td>\n",
       "      <td>0</td>\n",
       "      <td>397</td>\n",
       "      <td>0</td>\n",
       "    </tr>\n",
       "    <tr>\n",
       "      <th>1</th>\n",
       "      <td>1</td>\n",
       "      <td>1</td>\n",
       "      <td>Es</td>\n",
       "      <td>Blank</td>\n",
       "      <td>2.10.2014 11:25:43</td>\n",
       "      <td>2.10.2014 11:25:43</td>\n",
       "      <td>0</td>\n",
       "      <td>0</td>\n",
       "      <td>0</td>\n",
       "      <td>0</td>\n",
       "      <td>0</td>\n",
       "      <td>59</td>\n",
       "      <td>0</td>\n",
       "    </tr>\n",
       "    <tr>\n",
       "      <th>2</th>\n",
       "      <td>1</td>\n",
       "      <td>1</td>\n",
       "      <td>Es</td>\n",
       "      <td>Deeds</td>\n",
       "      <td>2.10.2014 11:25:44</td>\n",
       "      <td>2.10.2014 11:26:17</td>\n",
       "      <td>154117</td>\n",
       "      <td>6</td>\n",
       "      <td>0</td>\n",
       "      <td>8</td>\n",
       "      <td>0</td>\n",
       "      <td>1581</td>\n",
       "      <td>4</td>\n",
       "    </tr>\n",
       "    <tr>\n",
       "      <th>3</th>\n",
       "      <td>1</td>\n",
       "      <td>1</td>\n",
       "      <td>Es</td>\n",
       "      <td>Other</td>\n",
       "      <td>2.10.2014 11:26:18</td>\n",
       "      <td>2.10.2014 11:26:18</td>\n",
       "      <td>0</td>\n",
       "      <td>0</td>\n",
       "      <td>0</td>\n",
       "      <td>2</td>\n",
       "      <td>0</td>\n",
       "      <td>103</td>\n",
       "      <td>0</td>\n",
       "    </tr>\n",
       "    <tr>\n",
       "      <th>4</th>\n",
       "      <td>1</td>\n",
       "      <td>1</td>\n",
       "      <td>Es</td>\n",
       "      <td>Other</td>\n",
       "      <td>2.10.2014 11:26:19</td>\n",
       "      <td>2.10.2014 11:26:27</td>\n",
       "      <td>460</td>\n",
       "      <td>0</td>\n",
       "      <td>0</td>\n",
       "      <td>4</td>\n",
       "      <td>0</td>\n",
       "      <td>424</td>\n",
       "      <td>8</td>\n",
       "    </tr>\n",
       "  </tbody>\n",
       "</table>\n",
       "</div>"
      ],
      "text/plain": [
       "   session  student_id exercise  activity           start_time  \\\n",
       "0        1           1       Es   Aulaweb   2.10.2014 11:25:35   \n",
       "1        1           1       Es     Blank   2.10.2014 11:25:43   \n",
       "2        1           1       Es     Deeds   2.10.2014 11:25:44   \n",
       "3        1           1       Es     Other   2.10.2014 11:26:18   \n",
       "4        1           1       Es     Other   2.10.2014 11:26:19   \n",
       "\n",
       "              end_time  idle_time  mouse_wheel  mouse_wheel_click  left_click  \\\n",
       "0   2.10.2014 11:25:42        218            0                  0           4   \n",
       "1   2.10.2014 11:25:43          0            0                  0           0   \n",
       "2   2.10.2014 11:26:17     154117            6                  0           8   \n",
       "3   2.10.2014 11:26:18          0            0                  0           2   \n",
       "4   2.10.2014 11:26:27        460            0                  0           4   \n",
       "\n",
       "   right_click  mouse_movement  keystroke  \n",
       "0            0             397          0  \n",
       "1            0              59          0  \n",
       "2            0            1581          4  \n",
       "3            0             103          0  \n",
       "4            0             424          8  "
      ]
     },
     "execution_count": 72,
     "metadata": {},
     "output_type": "execute_result"
    }
   ],
   "source": [
    "frame.head()"
   ]
  },
  {
   "cell_type": "code",
   "execution_count": 73,
   "metadata": {
    "collapsed": false
   },
   "outputs": [
    {
     "data": {
      "text/html": [
       "<div>\n",
       "<table border=\"1\" class=\"dataframe\">\n",
       "  <thead>\n",
       "    <tr style=\"text-align: right;\">\n",
       "      <th></th>\n",
       "      <th>session</th>\n",
       "      <th>student_id</th>\n",
       "      <th>idle_time</th>\n",
       "      <th>mouse_wheel</th>\n",
       "      <th>mouse_wheel_click</th>\n",
       "      <th>left_click</th>\n",
       "      <th>right_click</th>\n",
       "      <th>mouse_movement</th>\n",
       "      <th>keystroke</th>\n",
       "    </tr>\n",
       "  </thead>\n",
       "  <tbody>\n",
       "    <tr>\n",
       "      <th>count</th>\n",
       "      <td>229798.000000</td>\n",
       "      <td>229798.000000</td>\n",
       "      <td>2.297980e+05</td>\n",
       "      <td>229798.000000</td>\n",
       "      <td>229798.000000</td>\n",
       "      <td>229798.000000</td>\n",
       "      <td>229798.000000</td>\n",
       "      <td>229798.000000</td>\n",
       "      <td>229798.000000</td>\n",
       "    </tr>\n",
       "    <tr>\n",
       "      <th>mean</th>\n",
       "      <td>3.695058</td>\n",
       "      <td>53.626233</td>\n",
       "      <td>-1.852064e+09</td>\n",
       "      <td>2.749741</td>\n",
       "      <td>0.005457</td>\n",
       "      <td>7.083112</td>\n",
       "      <td>0.336870</td>\n",
       "      <td>415.060222</td>\n",
       "      <td>6.294045</td>\n",
       "    </tr>\n",
       "    <tr>\n",
       "      <th>std</th>\n",
       "      <td>1.770348</td>\n",
       "      <td>31.542913</td>\n",
       "      <td>4.502500e+11</td>\n",
       "      <td>27.169832</td>\n",
       "      <td>0.223620</td>\n",
       "      <td>21.567963</td>\n",
       "      <td>3.020974</td>\n",
       "      <td>1273.675902</td>\n",
       "      <td>51.017414</td>\n",
       "    </tr>\n",
       "    <tr>\n",
       "      <th>min</th>\n",
       "      <td>1.000000</td>\n",
       "      <td>1.000000</td>\n",
       "      <td>-2.059092e+14</td>\n",
       "      <td>0.000000</td>\n",
       "      <td>0.000000</td>\n",
       "      <td>0.000000</td>\n",
       "      <td>0.000000</td>\n",
       "      <td>0.000000</td>\n",
       "      <td>0.000000</td>\n",
       "    </tr>\n",
       "    <tr>\n",
       "      <th>25%</th>\n",
       "      <td>2.000000</td>\n",
       "      <td>27.000000</td>\n",
       "      <td>0.000000e+00</td>\n",
       "      <td>0.000000</td>\n",
       "      <td>0.000000</td>\n",
       "      <td>2.000000</td>\n",
       "      <td>0.000000</td>\n",
       "      <td>62.000000</td>\n",
       "      <td>0.000000</td>\n",
       "    </tr>\n",
       "    <tr>\n",
       "      <th>50%</th>\n",
       "      <td>4.000000</td>\n",
       "      <td>53.000000</td>\n",
       "      <td>8.000000e+01</td>\n",
       "      <td>0.000000</td>\n",
       "      <td>0.000000</td>\n",
       "      <td>2.000000</td>\n",
       "      <td>0.000000</td>\n",
       "      <td>138.000000</td>\n",
       "      <td>0.000000</td>\n",
       "    </tr>\n",
       "    <tr>\n",
       "      <th>75%</th>\n",
       "      <td>5.000000</td>\n",
       "      <td>81.000000</td>\n",
       "      <td>5.779000e+03</td>\n",
       "      <td>0.000000</td>\n",
       "      <td>0.000000</td>\n",
       "      <td>5.000000</td>\n",
       "      <td>0.000000</td>\n",
       "      <td>336.000000</td>\n",
       "      <td>0.000000</td>\n",
       "    </tr>\n",
       "    <tr>\n",
       "      <th>max</th>\n",
       "      <td>6.000000</td>\n",
       "      <td>115.000000</td>\n",
       "      <td>7.244736e+09</td>\n",
       "      <td>2904.000000</td>\n",
       "      <td>60.000000</td>\n",
       "      <td>1096.000000</td>\n",
       "      <td>168.000000</td>\n",
       "      <td>85949.000000</td>\n",
       "      <td>4754.000000</td>\n",
       "    </tr>\n",
       "  </tbody>\n",
       "</table>\n",
       "</div>"
      ],
      "text/plain": [
       "             session     student_id     idle_time    mouse_wheel  \\\n",
       "count  229798.000000  229798.000000  2.297980e+05  229798.000000   \n",
       "mean        3.695058      53.626233 -1.852064e+09       2.749741   \n",
       "std         1.770348      31.542913  4.502500e+11      27.169832   \n",
       "min         1.000000       1.000000 -2.059092e+14       0.000000   \n",
       "25%         2.000000      27.000000  0.000000e+00       0.000000   \n",
       "50%         4.000000      53.000000  8.000000e+01       0.000000   \n",
       "75%         5.000000      81.000000  5.779000e+03       0.000000   \n",
       "max         6.000000     115.000000  7.244736e+09    2904.000000   \n",
       "\n",
       "       mouse_wheel_click     left_click    right_click  mouse_movement  \\\n",
       "count      229798.000000  229798.000000  229798.000000   229798.000000   \n",
       "mean            0.005457       7.083112       0.336870      415.060222   \n",
       "std             0.223620      21.567963       3.020974     1273.675902   \n",
       "min             0.000000       0.000000       0.000000        0.000000   \n",
       "25%             0.000000       2.000000       0.000000       62.000000   \n",
       "50%             0.000000       2.000000       0.000000      138.000000   \n",
       "75%             0.000000       5.000000       0.000000      336.000000   \n",
       "max            60.000000    1096.000000     168.000000    85949.000000   \n",
       "\n",
       "           keystroke  \n",
       "count  229798.000000  \n",
       "mean        6.294045  \n",
       "std        51.017414  \n",
       "min         0.000000  \n",
       "25%         0.000000  \n",
       "50%         0.000000  \n",
       "75%         0.000000  \n",
       "max      4754.000000  "
      ]
     },
     "execution_count": 73,
     "metadata": {},
     "output_type": "execute_result"
    }
   ],
   "source": [
    "frame.describe()"
   ]
  },
  {
   "cell_type": "markdown",
   "metadata": {},
   "source": [
    "Whoops! Looks like the `session` and `student_id` columns are continuous. Let's go ahead and factorize those. Also, while we are at it, let's take a look at why data types each of the columns are. I am suspicious about the `start_time` and `end_time` features."
   ]
  },
  {
   "cell_type": "code",
   "execution_count": 74,
   "metadata": {
    "collapsed": false
   },
   "outputs": [
    {
     "name": "stdout",
     "output_type": "stream",
     "text": [
      "{category: ['session', 'student_id'], dtype('int64'): ['idle_time', 'mouse_wheel', 'mouse_wheel_click', 'left_click', 'right_click', 'mouse_movement', 'keystroke'], dtype('O'): ['exercise', 'activity'], dtype('<M8[ns]'): ['start_time', 'end_time']}\n"
     ]
    }
   ],
   "source": [
    "for col in ['session', 'student_id']:\n",
    "    frame[col] = frame[col].astype('category')\n",
    "    \n",
    "for col in ['start_time', 'end_time']:\n",
    "    frame[col] =  pd.to_datetime(frame[col], format=' %d.%m.%Y %H:%M:%S')\n",
    "\n",
    "#frame['start_time'] = pd.to_datetime(frame['start_time'], format=' %d.%m.%Y %H:%M:%S')\n",
    "#frame['end_time'] = pd.to_datetime(frame['end_time'], format=' %d.%m.%Y %H:%M:%S')\n",
    "\n",
    "print(frame.columns.to_series().groupby(frame.dtypes).groups)\n"
   ]
  },
  {
   "cell_type": "code",
   "execution_count": 75,
   "metadata": {
    "collapsed": false
   },
   "outputs": [
    {
     "data": {
      "text/html": [
       "<div>\n",
       "<table border=\"1\" class=\"dataframe\">\n",
       "  <thead>\n",
       "    <tr style=\"text-align: right;\">\n",
       "      <th></th>\n",
       "      <th>idle_time</th>\n",
       "      <th>mouse_wheel</th>\n",
       "      <th>mouse_wheel_click</th>\n",
       "      <th>left_click</th>\n",
       "      <th>right_click</th>\n",
       "      <th>mouse_movement</th>\n",
       "      <th>keystroke</th>\n",
       "    </tr>\n",
       "  </thead>\n",
       "  <tbody>\n",
       "    <tr>\n",
       "      <th>count</th>\n",
       "      <td>2.297980e+05</td>\n",
       "      <td>229798.000000</td>\n",
       "      <td>229798.000000</td>\n",
       "      <td>229798.000000</td>\n",
       "      <td>229798.000000</td>\n",
       "      <td>229798.000000</td>\n",
       "      <td>229798.000000</td>\n",
       "    </tr>\n",
       "    <tr>\n",
       "      <th>mean</th>\n",
       "      <td>-1.852064e+09</td>\n",
       "      <td>2.749741</td>\n",
       "      <td>0.005457</td>\n",
       "      <td>7.083112</td>\n",
       "      <td>0.336870</td>\n",
       "      <td>415.060222</td>\n",
       "      <td>6.294045</td>\n",
       "    </tr>\n",
       "    <tr>\n",
       "      <th>std</th>\n",
       "      <td>4.502500e+11</td>\n",
       "      <td>27.169832</td>\n",
       "      <td>0.223620</td>\n",
       "      <td>21.567963</td>\n",
       "      <td>3.020974</td>\n",
       "      <td>1273.675902</td>\n",
       "      <td>51.017414</td>\n",
       "    </tr>\n",
       "    <tr>\n",
       "      <th>min</th>\n",
       "      <td>-2.059092e+14</td>\n",
       "      <td>0.000000</td>\n",
       "      <td>0.000000</td>\n",
       "      <td>0.000000</td>\n",
       "      <td>0.000000</td>\n",
       "      <td>0.000000</td>\n",
       "      <td>0.000000</td>\n",
       "    </tr>\n",
       "    <tr>\n",
       "      <th>25%</th>\n",
       "      <td>0.000000e+00</td>\n",
       "      <td>0.000000</td>\n",
       "      <td>0.000000</td>\n",
       "      <td>2.000000</td>\n",
       "      <td>0.000000</td>\n",
       "      <td>62.000000</td>\n",
       "      <td>0.000000</td>\n",
       "    </tr>\n",
       "    <tr>\n",
       "      <th>50%</th>\n",
       "      <td>8.000000e+01</td>\n",
       "      <td>0.000000</td>\n",
       "      <td>0.000000</td>\n",
       "      <td>2.000000</td>\n",
       "      <td>0.000000</td>\n",
       "      <td>138.000000</td>\n",
       "      <td>0.000000</td>\n",
       "    </tr>\n",
       "    <tr>\n",
       "      <th>75%</th>\n",
       "      <td>5.779000e+03</td>\n",
       "      <td>0.000000</td>\n",
       "      <td>0.000000</td>\n",
       "      <td>5.000000</td>\n",
       "      <td>0.000000</td>\n",
       "      <td>336.000000</td>\n",
       "      <td>0.000000</td>\n",
       "    </tr>\n",
       "    <tr>\n",
       "      <th>max</th>\n",
       "      <td>7.244736e+09</td>\n",
       "      <td>2904.000000</td>\n",
       "      <td>60.000000</td>\n",
       "      <td>1096.000000</td>\n",
       "      <td>168.000000</td>\n",
       "      <td>85949.000000</td>\n",
       "      <td>4754.000000</td>\n",
       "    </tr>\n",
       "  </tbody>\n",
       "</table>\n",
       "</div>"
      ],
      "text/plain": [
       "          idle_time    mouse_wheel  mouse_wheel_click     left_click  \\\n",
       "count  2.297980e+05  229798.000000      229798.000000  229798.000000   \n",
       "mean  -1.852064e+09       2.749741           0.005457       7.083112   \n",
       "std    4.502500e+11      27.169832           0.223620      21.567963   \n",
       "min   -2.059092e+14       0.000000           0.000000       0.000000   \n",
       "25%    0.000000e+00       0.000000           0.000000       2.000000   \n",
       "50%    8.000000e+01       0.000000           0.000000       2.000000   \n",
       "75%    5.779000e+03       0.000000           0.000000       5.000000   \n",
       "max    7.244736e+09    2904.000000          60.000000    1096.000000   \n",
       "\n",
       "         right_click  mouse_movement      keystroke  \n",
       "count  229798.000000   229798.000000  229798.000000  \n",
       "mean        0.336870      415.060222       6.294045  \n",
       "std         3.020974     1273.675902      51.017414  \n",
       "min         0.000000        0.000000       0.000000  \n",
       "25%         0.000000       62.000000       0.000000  \n",
       "50%         0.000000      138.000000       0.000000  \n",
       "75%         0.000000      336.000000       0.000000  \n",
       "max       168.000000    85949.000000    4754.000000  "
      ]
     },
     "execution_count": 75,
     "metadata": {},
     "output_type": "execute_result"
    }
   ],
   "source": [
    "frame.describe()\n"
   ]
  },
  {
   "cell_type": "markdown",
   "metadata": {},
   "source": [
    "Okay, so it looks like we can get some descriptive statistics on the continuous variables. How about looking at the difference between `end_time` and `start_time`. This might be an interesting variable to track performance later on."
   ]
  },
  {
   "cell_type": "code",
   "execution_count": 76,
   "metadata": {
    "collapsed": false
   },
   "outputs": [
    {
     "data": {
      "text/plain": [
       "count                    229798\n",
       "mean     0 days 00:00:15.870281\n",
       "std      0 days 00:01:01.079216\n",
       "min           -1 days +23:49:48\n",
       "25%             0 days 00:00:00\n",
       "50%             0 days 00:00:02\n",
       "75%             0 days 00:00:09\n",
       "max             0 days 01:04:21\n",
       "Name: time_delta, dtype: object"
      ]
     },
     "execution_count": 76,
     "metadata": {},
     "output_type": "execute_result"
    }
   ],
   "source": [
    "frame['time_delta'] = frame['end_time']-frame['start_time']\n",
    "frame['time_delta'].describe()"
   ]
  },
  {
   "cell_type": "markdown",
   "metadata": {},
   "source": [
    "Look at that minimum time! Surely that has to be an input error as negative time is not possible. Hopefully this doesn't happen a lot. Let's find the columns in the `frame` dataframe to see if it is a common problem. "
   ]
  },
  {
   "cell_type": "code",
   "execution_count": 77,
   "metadata": {
    "collapsed": false
   },
   "outputs": [
    {
     "data": {
      "text/html": [
       "<div>\n",
       "<table border=\"1\" class=\"dataframe\">\n",
       "  <thead>\n",
       "    <tr style=\"text-align: right;\">\n",
       "      <th></th>\n",
       "      <th>session</th>\n",
       "      <th>student_id</th>\n",
       "      <th>exercise</th>\n",
       "      <th>activity</th>\n",
       "      <th>start_time</th>\n",
       "      <th>end_time</th>\n",
       "      <th>idle_time</th>\n",
       "      <th>mouse_wheel</th>\n",
       "      <th>mouse_wheel_click</th>\n",
       "      <th>left_click</th>\n",
       "      <th>right_click</th>\n",
       "      <th>mouse_movement</th>\n",
       "      <th>keystroke</th>\n",
       "      <th>time_delta</th>\n",
       "    </tr>\n",
       "  </thead>\n",
       "  <tbody>\n",
       "    <tr>\n",
       "      <th>562</th>\n",
       "      <td>4</td>\n",
       "      <td>89</td>\n",
       "      <td>Es_4_5</td>\n",
       "      <td>Diagram</td>\n",
       "      <td>2014-11-13 13:50:40</td>\n",
       "      <td>2014-11-13 13:40:28</td>\n",
       "      <td>30681</td>\n",
       "      <td>0</td>\n",
       "      <td>0</td>\n",
       "      <td>42</td>\n",
       "      <td>0</td>\n",
       "      <td>636</td>\n",
       "      <td>0</td>\n",
       "      <td>-1 days +23:49:48</td>\n",
       "    </tr>\n",
       "  </tbody>\n",
       "</table>\n",
       "</div>"
      ],
      "text/plain": [
       "    session student_id exercise  activity          start_time  \\\n",
       "562       4         89   Es_4_5   Diagram 2014-11-13 13:50:40   \n",
       "\n",
       "               end_time  idle_time  mouse_wheel  mouse_wheel_click  \\\n",
       "562 2014-11-13 13:40:28      30681            0                  0   \n",
       "\n",
       "     left_click  right_click  mouse_movement  keystroke        time_delta  \n",
       "562          42            0             636          0 -1 days +23:49:48  "
      ]
     },
     "execution_count": 77,
     "metadata": {},
     "output_type": "execute_result"
    }
   ],
   "source": [
    "frame[frame['start_time']>frame['end_time']]"
   ]
  },
  {
   "cell_type": "markdown",
   "metadata": {},
   "source": [
    "Looks like it isn't that big of a deal. Only one row in the dataframe appears to have an incorrectly inputed times (well, at least for those errors that can be ruled out by physical impossibility). We will want take this out if doing an analysis that includes time as a variable, however, there are other parts of data that may be pertinent outside of the scope of time. For that reason, we shall keep this in the final file."
   ]
  },
  {
   "cell_type": "code",
   "execution_count": 78,
   "metadata": {
    "collapsed": false
   },
   "outputs": [],
   "source": [
    "frame.to_csv('sessions.csv')"
   ]
  },
  {
   "cell_type": "code",
   "execution_count": null,
   "metadata": {
    "collapsed": true
   },
   "outputs": [],
   "source": []
  }
 ],
 "metadata": {
  "kernelspec": {
   "display_name": "Python 3",
   "language": "python",
   "name": "python3"
  },
  "language_info": {
   "codemirror_mode": {
    "name": "ipython",
    "version": 3
   },
   "file_extension": ".py",
   "mimetype": "text/x-python",
   "name": "python",
   "nbconvert_exporter": "python",
   "pygments_lexer": "ipython3",
   "version": "3.5.1"
  }
 },
 "nbformat": 4,
 "nbformat_minor": 0
}
