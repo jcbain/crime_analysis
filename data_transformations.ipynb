{
 "cells": [
  {
   "cell_type": "code",
   "execution_count": 14,
   "metadata": {
    "collapsed": true
   },
   "outputs": [],
   "source": [
    "%matplotlib inline\n",
    "\n",
    "import pandas as pd\n",
    "import numpy as np\n",
    "import glob\n",
    "import matplotlib.pyplot as plt\n",
    "import seaborn as sns\n",
    "from datetime import datetime"
   ]
  },
  {
   "cell_type": "code",
   "execution_count": 2,
   "metadata": {
    "collapsed": true
   },
   "outputs": [],
   "source": [
    "session = pd.read_csv('Data/sessions.csv')\n",
    "final = pd.read_csv('Data/final_grades.csv')\n",
    "inter = pd.read_csv('Data/inter_grades.csv')"
   ]
  },
  {
   "cell_type": "code",
   "execution_count": 46,
   "metadata": {
    "collapsed": false
   },
   "outputs": [
    {
     "data": {
      "text/plain": [
       "{dtype('O'): ['exercise', 'activity'],\n",
       " dtype('int64'): ['Unnamed: 0',\n",
       "  'idle_time',\n",
       "  'mouse_wheel',\n",
       "  'mouse_wheel_click',\n",
       "  'left_click',\n",
       "  'right_click',\n",
       "  'mouse_movement',\n",
       "  'keystroke'],\n",
       " dtype('float64'): ['time_delta'],\n",
       " dtype('<M8[ns]'): ['start_time', 'end_time'],\n",
       " category: ['session', 'student_id']}"
      ]
     },
     "execution_count": 46,
     "metadata": {},
     "output_type": "execute_result"
    }
   ],
   "source": [
    "# make sessions and student ids categorical\n",
    "for col in ['session', 'student_id']:\n",
    "    session[col] = session[col].astype('category')\n",
    "\n",
    "# convert start and end time column dtypes to datetime    \n",
    "for col in ['start_time', 'end_time']:\n",
    "    session[col] =  pd.to_datetime(session[col], format='%Y-%m-%d %H:%M:%S')\n",
    "\n",
    "# calculate the time difference between end and start time in seconds\n",
    "session['time_delta']=(pd.to_timedelta(session['end_time'])-pd.to_timedelta(session['start_time'])).astype('timedelta64[s]')\n",
    "\n",
    "# print out column dtypes\n",
    "session.columns.to_series().groupby(session.dtypes).groups"
   ]
  },
  {
   "cell_type": "code",
   "execution_count": 45,
   "metadata": {
    "collapsed": false
   },
   "outputs": [],
   "source": []
  },
  {
   "cell_type": "code",
   "execution_count": 44,
   "metadata": {
    "collapsed": false
   },
   "outputs": [
    {
     "data": {
      "text/plain": [
       "(array([  1.00000000e+00,   2.28127000e+05,   1.38000000e+03,\n",
       "          2.07000000e+02,   5.50000000e+01,   1.60000000e+01,\n",
       "          4.00000000e+00,   3.00000000e+00,   2.00000000e+00,\n",
       "          3.00000000e+00]),\n",
       " array([ -612000.,  -164700.,   282600.,   729900.,  1177200.,  1624500.,\n",
       "         2071800.,  2519100.,  2966400.,  3413700.,  3861000.]),\n",
       " <a list of 10 Patch objects>)"
      ]
     },
     "execution_count": 44,
     "metadata": {},
     "output_type": "execute_result"
    },
    {
     "data": {
      "image/png": "[encoded data removed]",
      "text/plain": [
       "<matplotlib.figure.Figure at 0x10f3b6278>"
      ]
     },
     "metadata": {},
     "output_type": "display_data"
    }
   ],
   "source": []
  },
  {
   "cell_type": "code",
   "execution_count": null,
   "metadata": {
    "collapsed": true
   },
   "outputs": [],
   "source": []
  }
 ],
 "metadata": {
  "kernelspec": {
   "display_name": "Python 3",
   "language": "python",
   "name": "python3"
  },
  "language_info": {
   "codemirror_mode": {
    "name": "ipython",
    "version": 3
   },
   "file_extension": ".py",
   "mimetype": "text/x-python",
   "name": "python",
   "nbconvert_exporter": "python",
   "pygments_lexer": "ipython3",
   "version": "3.5.1"
  }
 },
 "nbformat": 4,
 "nbformat_minor": 0
}
